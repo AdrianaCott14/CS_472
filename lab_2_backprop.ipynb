{
  "cells": [
    {
      "cell_type": "markdown",
      "metadata": {
        "id": "view-in-github",
        "colab_type": "text"
      },
      "source": [
        "<a href=\"https://colab.research.google.com/github/AdrianaCott14/CS_472/blob/main/lab_2_backprop.ipynb\" target=\"_parent\"><img src=\"https://colab.research.google.com/assets/colab-badge.svg\" alt=\"Open In Colab\"/></a>"
      ]
    },
    {
      "cell_type": "markdown",
      "metadata": {
        "id": "DVL7_bgmIAPR"
      },
      "source": [
        "# Backpropagation Lab\n",
        "\n",
        "\n",
        "\n"
      ]
    },
    {
      "cell_type": "code",
      "execution_count": null,
      "metadata": {
        "id": "6ZbYjZZZ_yLV"
      },
      "outputs": [],
      "source": [
        "from sklearn.base import BaseEstimator, ClassifierMixin\n",
        "from sklearn.neural_network import MLPClassifier\n",
        "import numpy as np\n",
        "import matplotlib.pyplot as plt\n",
        "from scipy.io import arff\n",
        "import pandas as pd\n",
        "import pdb\n",
        "from math import e\n",
        "from sklearn.datasets import make_classification\n",
        "from sklearn.model_selection import train_test_split\n",
        "import random"
      ]
    },
    {
      "cell_type": "markdown",
      "metadata": {
        "id": "sCcEPx5VIORj"
      },
      "source": [
        "## 1. (40%) Correctly implement and submit your own code for the backpropagation algorithm. \n",
        "\n",
        "## Code requirements \n",
        "- Ability to create a network structure with at least one hidden layer and an arbitrary number of nodes.\n",
        "- Random weight initialization with small random weights with mean of 0 and a variance of 1.\n",
        "- Use Stochastic/On-line training updates: Iterate and update weights after each training instance (i.e., do not attempt batch updates)\n",
        "- Implement a validation set based stopping criterion.\n",
        "- Shuffle training set at each epoch.\n",
        "- Option to include a momentum term\n",
        "\n",
        "Use your Backpropagation algorithm to solve the Debug data. We provide you with several parameters, and you should be able to replicate our results every time. When you are confident it is correct, run your script on the Evaluation data with the same parameters, and print your final weights."
      ]
    },
    {
      "cell_type": "code",
      "execution_count": null,
      "metadata": {
        "id": "_a2KSZ_7AN0G"
      },
      "outputs": [],
      "source": [
        "class MLP(BaseEstimator,ClassifierMixin):\n",
        "\n",
        "    def __init__(self,lr=.1, momentum=0, shuffle=True,hidden_layer_widths=None, deterministic=None, initial_weight=0.0):\n",
        "        \"\"\" Initialize class with chosen hyperparameters.\n",
        "\n",
        "        Args:\n",
        "            lr (float): A learning rate / step size.\n",
        "            shuffle(boolean): Whether to shuffle the training data each epoch. DO NOT SHUFFLE for evaluation / debug datasets.\n",
        "            momentum(float): The momentum coefficent \n",
        "        Optional Args (Args we think will make your life easier):\n",
        "            hidden_layer_widths (list(int)): A list of integers which defines the width of each hidden layer if hidden layer is none do twice as many hidden nodes as input nodes. (and then one more for the bias node)\n",
        "            For example: input width 1, then hidden layer will be 3 nodes\n",
        "        Example:\n",
        "            mlp = MLP(lr=.2,momentum=.5,shuffle=False,hidden_layer_widths = [3,3]),  <--- this will create a model with two hidden layers, both 3 nodes wide\n",
        "        \"\"\"\n",
        "        self.hidden_layer_widths = hidden_layer_widths\n",
        "        self.lr = lr\n",
        "        self.momentum = momentum\n",
        "        self.shuffle = shuffle\n",
        "        self.input_to_hidden = None\n",
        "        self.hidden_to_output = None\n",
        "        self.deterministic = deterministic \n",
        "        if initial_weight == None:\n",
        "          self.initial_weight = random.uniform(0, 1)\n",
        "        else:\n",
        "          self.initial_weight = initial_weight\n",
        "\n",
        "        self.train_accuracy = []\n",
        "        self.valid_accuracy = []\n",
        "        self.train_mse = []\n",
        "        self.valid_mse = []\n",
        "\n",
        "\n",
        "    def fit(self, X, y, initial_weights=None):\n",
        "        \"\"\" Fit the data; run the algorithm and adjust the weights to find a good solution\n",
        "\n",
        "        Args:\n",
        "            X (array-like): A 2D numpy array with the training data, excluding targets\n",
        "            y (array-like): A 2D numpy array with the training targets\n",
        "        Optional Args (Args we think will make your life easier):\n",
        "            initial_weights (array-like): allows the user to provide initial weights\n",
        "        Returns:\n",
        "            self: this allows this to be chained, e.g. model.fit(X,y).predict(X_test)\n",
        "\n",
        "        \"\"\"\n",
        "        # set initial weights\n",
        "        self.initialize_weights(len(X[0]) + 1, len(y[0]), self.initial_weight)     \n",
        "\n",
        "        # check if a deterministic has been specified\n",
        "        if self.deterministic == None:\n",
        "\n",
        "          bContinue = True\n",
        "          self.epoch = 0\n",
        "\n",
        "          accuracy_counter = 0\n",
        "          best_accuracy = 0.0\n",
        "\n",
        "          while bContinue == True:\n",
        "            # shuffle data\n",
        "            X, y = self._shuffle_data(X, y)\n",
        "            validation_x, train_x, validation_y, train_y = self.split_data(X, y, .85)\n",
        "\n",
        "            self.train_accuracy.append(self.score(train_x, train_y))\n",
        "            self.valid_accuracy.append(self.score(validation_x, validation_y))\n",
        "            \n",
        "            self.train_mse.append(np.square(np.subtract(train_y, self.predict(train_x))).sum()/len(train_y))   \n",
        "            self.valid_mse.append(np.square(np.subtract(validation_y, self.predict(validation_x))).sum()/len(validation_y)) \n",
        "\n",
        "            # add the bias at the end of each pattern\n",
        "            patterns = np.append(train_x, np.ones((train_x.shape[0], 1)), axis=1)            \n",
        "\n",
        "            # loop through all inputs (X)\n",
        "            for row in range(len(patterns)):\n",
        "              currRow = patterns[row]\n",
        "              hidden_zs = []\n",
        "              output_zs = []\n",
        "              output_deltas = []\n",
        "              hidden_deltas = []\n",
        "\n",
        "              # input to hidden\n",
        "              hidden_nets = currRow @ self.input_to_hidden\n",
        "              for i in range(len(hidden_nets)):\n",
        "                z = 1/(1 + e**-(hidden_nets[i]))\n",
        "                hidden_zs.append(z) \n",
        "              hidden_zs.append(1)\n",
        "              hidden_zs = np.array(hidden_zs)\n",
        "\n",
        "              # hidden to output\n",
        "              output_nets = hidden_zs @ self.hidden_to_output\n",
        "              for i in range(len(output_nets)):\n",
        "                z = 1/(1 + e**-(output_nets[i]))\n",
        "                output_zs.append(z)\n",
        "              output_zs = np.array(output_zs)\n",
        "\n",
        "               # delta\n",
        "              for i in range(len(output_zs)):\n",
        "                output_deltas.append(((y[row][i] - output_zs[i])*(output_zs[i])*(1 - output_zs[i])))\n",
        "              output_deltas = np.array(output_deltas)\n",
        "              \n",
        "              # output to hidden\n",
        "              hidden_deltas = []\n",
        "              for j in range(len(self.hidden_to_output) - 1):\n",
        "                w_js = self.hidden_to_output[j]\n",
        "                sum = 0\n",
        "                for k in range(len(output_deltas)):\n",
        "                  sum += w_js[k] * output_deltas[k]\n",
        "                hidden_deltas.append(sum * ((hidden_zs[j]) * (1 - hidden_zs[j])))\n",
        "              \n",
        "              # output to hidden\n",
        "              for row_ in range(len(self.hidden_to_output)):\n",
        "                for col in range(len(self.hidden_to_output[row_])):\n",
        "                  self.hidden_to_output[row_][col] += self.lr * hidden_zs[row_] * output_deltas[col] + self.hidden_to_output_changes[row_][col] * self.momentum\n",
        "                  self.hidden_to_output_changes[row_][col] = self.lr * hidden_zs[row_] * output_deltas[col] + self.hidden_to_output_changes[row_][col] * self.momentum\n",
        "              \n",
        "              # input to hidden\n",
        "              for row_ in range(len(self.input_to_hidden)):\n",
        "                for col in range(len(self.input_to_hidden[row_])):\n",
        "                  self.input_to_hidden[row_][col] += self.lr * patterns[row][row_] * hidden_deltas[col] + self.input_to_hidden_changes[row_][col] * self.momentum\n",
        "                  self.input_to_hidden_changes[row_][col] = self.lr * patterns[row][row_] * hidden_deltas[col] + self.input_to_hidden_changes[row_][col] * self.momentum\n",
        "            \n",
        "\n",
        "            # calc accuracy for validation set\n",
        "            curr_accuracy = self.score(validation_x, validation_y)\n",
        "\n",
        "            if best_accuracy < curr_accuracy:\n",
        "              best_accuracy = curr_accuracy\n",
        "              accuracy_counter = 0\n",
        "            else:\n",
        "              accuracy_counter += 1\n",
        "\n",
        "            #if counter is high enough, break\n",
        "            if accuracy_counter == 25:\n",
        "              bContinue = False\n",
        "            if bContinue == True:\n",
        "              self.epoch += 1        \n",
        "\n",
        "        else: \n",
        "          # add the bias at the end of each pattern\n",
        "          patterns = np.append(X, np.ones((X.shape[0], 1)), axis=1)\n",
        "\n",
        "          for epoch in range(self.deterministic):\n",
        "            # loop through all inputs (X)\n",
        "            for row in range(len(patterns)):\n",
        "              currRow = patterns[row]\n",
        "              hidden_zs = []\n",
        "              output_zs = []\n",
        "              output_deltas = []\n",
        "              hidden_deltas = []\n",
        "\n",
        "              # input to hidden\n",
        "              hidden_nets = currRow @ self.input_to_hidden\n",
        "              for i in range(len(hidden_nets)):\n",
        "                z = 1/(1 + e**-(hidden_nets[i]))\n",
        "                hidden_zs.append(z) \n",
        "              hidden_zs.append(1)\n",
        "              hidden_zs = np.array(hidden_zs)\n",
        "\n",
        "              # hidden to output\n",
        "              output_nets = hidden_zs @ self.hidden_to_output\n",
        "              for i in range(len(output_nets)):\n",
        "                z = 1/(1 + e**-(output_nets[i]))\n",
        "                output_zs.append(z)\n",
        "              output_zs = np.array(output_zs)\n",
        "                    \n",
        "              # delta\n",
        "              for i in range(len(output_zs)):\n",
        "                output_deltas.append(((y[row][i] - output_zs[i])*(output_zs[i])*(1 - output_zs[i])))\n",
        "              output_deltas = np.array(output_deltas)\n",
        "              \n",
        "              # output to hidden\n",
        "              hidden_deltas = []\n",
        "              for j in range(len(self.hidden_to_output) - 1):\n",
        "                w_js = self.hidden_to_output[j]\n",
        "                sum = 0\n",
        "                for k in range(len(output_deltas)):\n",
        "                  sum += w_js[k] * output_deltas[k]\n",
        "                hidden_deltas.append(sum * ((hidden_zs[j]) * (1 - hidden_zs[j])))\n",
        "              \n",
        "              # output to hidden\n",
        "              for row_ in range(len(self.hidden_to_output)):\n",
        "                for col in range(len(self.hidden_to_output[row_])):\n",
        "                  self.hidden_to_output[row_][col] += self.lr * hidden_zs[row_] * output_deltas[col] + self.hidden_to_output_changes[row_][col] * self.momentum\n",
        "                  self.hidden_to_output_changes[row_][col] = self.lr * hidden_zs[row_] * output_deltas[col] + self.hidden_to_output_changes[row_][col] * self.momentum\n",
        "              \n",
        "              # input to hidden\n",
        "              for row_ in range(len(self.input_to_hidden)):\n",
        "                for col in range(len(self.input_to_hidden[row_])):\n",
        "                  self.input_to_hidden[row_][col] += self.lr * patterns[row][row_] * hidden_deltas[col] + self.input_to_hidden_changes[row_][col] * self.momentum\n",
        "                  self.input_to_hidden_changes[row_][col] = self.lr * patterns[row][row_] * hidden_deltas[col] + self.input_to_hidden_changes[row_][col] * self.momentum\n",
        "                  \n",
        "        # print(hidden_nets, \"hidden nets\")\n",
        "        # print(hidden_zs, \"hidden zs\")\n",
        "        # print(output_nets, \"output nets\")\n",
        "        # print(output_zs,\"output zs\")\n",
        "        # print(output_deltas,\"output delta\")\n",
        "        # print(hidden_deltas, \"hidden deltas\")\n",
        "        # print(self.hidden_to_output, \"hidden weights\")\n",
        "        # print(self.input_to_hidden, \"input weights\")\n",
        "        # print(self.predictions, \"predictions\")\n",
        "\n",
        "        return self\n",
        "\n",
        "\n",
        "    def predict(self, X):\n",
        "      predictions = []\n",
        "      patterns = np.append(X, np.ones((X.shape[0], 1)), axis=1)\n",
        "      for row in range(len(patterns)): # for every row being passed into the model\n",
        "        currRow = patterns[row]\n",
        "        hidden_zs = []\n",
        "        output_zs = []\n",
        "        output_deltas = []\n",
        "        hidden_deltas = []\n",
        "\n",
        "        # input to hidden\n",
        "        hidden_nets = currRow @ self.input_to_hidden\n",
        "        for i in range(len(hidden_nets)):\n",
        "          z = 1/(1 + e**-(hidden_nets[i]))\n",
        "          hidden_zs.append(z) \n",
        "        hidden_zs.append(1)\n",
        "        hidden_zs = np.array(hidden_zs)\n",
        "\n",
        "\n",
        "        # hidden to output\n",
        "        output_nets = hidden_zs @ self.hidden_to_output\n",
        "        for i in range(len(output_nets)):\n",
        "          z = 1/(1 + e**-(output_nets[i]))\n",
        "          output_zs.append(z)\n",
        "        output_zs = np.array(output_zs)\n",
        "        \n",
        "        # predictions for binary classification\n",
        "        if len(output_zs) == 1:\n",
        "          pred = 1 if output_zs[0] > 0.5 else 0\n",
        "\n",
        "          # save prediction to a list of predictions for each row in X\n",
        "          predictions.append([pred])\n",
        "        \n",
        "        # predictions for mult outputs\n",
        "        else:\n",
        "          max_z = max(output_zs)\n",
        "          max_z_index = np.where(output_zs == max_z)\n",
        "          pred = [0 for i in range(len(output_zs))]\n",
        "          pred[max_z_index[0][0]] = 1\n",
        "          predictions.append(pred)\n",
        "\n",
        "      return np.array(predictions)\n",
        "\n",
        "\n",
        "    def score(self, X, y):\n",
        "      return (self.predict(X) == y).mean()\n",
        "      \n",
        "\n",
        "    def initialize_weights(self, input_height, output_height, initial_weight):\n",
        "        \"\"\" \n",
        "            Initialize weights\n",
        "        \"\"\"\n",
        "        self.input_to_hidden = np.full((input_height, self.hidden_layer_widths[0]), initial_weight)\n",
        "        self.hidden_to_output = np.full((self.hidden_layer_widths[0] + 1, output_height), initial_weight)\n",
        "\n",
        "        self.input_to_hidden_changes = np.full((input_height, self.hidden_layer_widths[0]), initial_weight)\n",
        "        self.hidden_to_output_changes = np.full((self.hidden_layer_widths[0] + 1, output_height), initial_weight)\n",
        "\n",
        "        return \n",
        "\n",
        "    def split_data(self, X, y, split_perct):\n",
        "        len_y = len(y[0])\n",
        "        len_x = len(X[0])\n",
        "      \n",
        "        # check classification\n",
        "        if len_y > 1:\n",
        "          splitPoint = round(split_perct * len(X))\n",
        "\n",
        "          X_train = X[:splitPoint]\n",
        "          X_test = X[-(len(X) - splitPoint):]\n",
        "          y_train = y[:splitPoint]\n",
        "          y_test = y[-(len(X) - splitPoint):]\n",
        "        \n",
        "        else:\n",
        "          splitPoint = round(split_perct * len(X))\n",
        "\n",
        "          X_train = X[:splitPoint]\n",
        "          X_test = X[-(len(X) - splitPoint):]\n",
        "          y_train = y[:splitPoint]\n",
        "          y_test = y[-(len(X) - splitPoint):]\n",
        "\n",
        "        # print(X_train, \"x train\")\n",
        "        # print(X_test, \"x test\")\n",
        "        # print(y_train, \"y train\")\n",
        "        # print(y_test,\"y test\")\n",
        "        \n",
        "        return X_test, X_train, y_test, y_train\n",
        "\n",
        "    def _shuffle_data(self, X, y):\n",
        "        \"\"\" Shuffle the data! This _ prefix suggests that this method should only be called internally.\n",
        "            It might be easier to concatenate X & y and shuffle a single 2D array, rather than\n",
        "              shuffling X and y exactly the same way, independently.\n",
        "        \"\"\"\n",
        "        shuffleNP = np.append(X, y, axis=1)\n",
        "        np.random.shuffle(shuffleNP)\n",
        "        X = shuffleNP[:, :len(X[0])] # X\n",
        "        y = shuffleNP[:, len(X[0]):] # y\n",
        "\n",
        "        return X, y\n",
        "\n",
        "    ### Not required by sk-learn but required by us for grading. Returns the weights.\n",
        "    def get_weights(self):\n",
        "        print(\"Layer 1: \", self.input_to_hidden)\n",
        "        print(\"Layer 2: \", self.hidden_to_output)\n",
        "        return\n"
      ]
    },
    {
      "cell_type": "markdown",
      "metadata": {
        "id": "KibCIXIThpbE"
      },
      "source": [
        "## 1.1 \n",
        "\n",
        "Debug your model using the following parameters:\n",
        "\n",
        "Learning Rate = 0.1\\\n",
        "Momentum = 0.5\\\n",
        "Deterministic = 10 [This means run it 10 epochs and should be the same everytime you run it]\\\n",
        "Shuffle = False\\\n",
        "Validation size = 0\\\n",
        "Initial Weights = All zeros\\\n",
        "Hidden Layer Widths = [4]\n",
        "\n",
        "---\n",
        "\n",
        "### 1.1.1 Debug \n",
        "\n",
        "Debug your model by running it on the [Debug Dataset](https://byu.instructure.com/courses/14142/files?preview=4421290)\n",
        "\n",
        "\n",
        "Expected Results for Binary Classification (i.e. 1 output node): [debug_bp_0.csv](https://byu.instructure.com/courses/14142/files?preview=4537323) \n",
        "\n",
        "$$ \\text{Layer 1} = \\begin{bmatrix} -8.81779797\\text{e}-05 & -8.81779797\\text{e}-05 & -8.81779797\\text{e}-05 & -8.81779797\\text{e}-05 \\\\ 7.82757731\\text{e}-04 & 7.82757731\\text{e}-04 & 7.82757731\\text{e}-04 & 7.82757731\\text{e}-04 \\\\ -3.94353645\\text{e}-03 & -3.94353645\\text{e}-03 & -3.94353645\\text{e}-03 & -3.94353645\\text{e}-03 \\end{bmatrix}$$\n",
        "                                             \n",
        "$$ \\text{Layer 2} = \\begin{bmatrix} -0.01060888 \\\\ -0.01060888 \\\\ -0.01060888 \\\\ -0.01060888 \\\\ -0.02145495 \\end{bmatrix}$$\n",
        "\n",
        "(The weights do not need to be in this order or shape.)\n",
        "\n",
        "Expected Results for One Hot Vector Classification (i.e. 2 output nodes): [debug_bp_2outs.csv](https://byu.instructure.com/courses/14142/files?preview=4537340) \n",
        "\n",
        "$$ \\text{Layer 1} = \\begin{bmatrix} -0.00018149 & -0.00018149 & -0.00018149 & -0.00018149 \\\\ 0.00157468 & 0.00157468 & 0.00157468 & 0.00157468 \\\\ -0.00788218 & -0.00788218 & -0.00788218 & -0.00788218 \\end{bmatrix}$$\n",
        "                          \n",
        "$$ \\text{Layer 2} = \\begin{bmatrix} 0.01050642 & -0.01050642 \\\\ 0.01050642 & -0.01050642 \\\\ 0.01050642 & -0.01050642 \\\\ 0.01050642 & -0.01050642 \\\\ 0.02148778 & -0.02148778 \\end{bmatrix}$$\n",
        "\n",
        "(The weights do not need to be in this order or shape.)"
      ]
    },
    {
      "cell_type": "code",
      "execution_count": null,
      "metadata": {
        "colab": {
          "base_uri": "https://localhost:8080/"
        },
        "id": "KgAyy82gixIF",
        "outputId": "1ca6c06c-07f3-49cd-c806-a798c5d4bf95"
      },
      "outputs": [
        {
          "output_type": "stream",
          "name": "stdout",
          "text": [
            "Layer 1:  [[-0.00018149 -0.00018149 -0.00018149 -0.00018149]\n",
            " [ 0.00157468  0.00157468  0.00157468  0.00157468]\n",
            " [-0.00788218 -0.00788218 -0.00788218 -0.00788218]]\n",
            "Layer 2:  [[ 0.01050642 -0.01050642]\n",
            " [ 0.01050642 -0.01050642]\n",
            " [ 0.01050642 -0.01050642]\n",
            " [ 0.01050642 -0.01050642]\n",
            " [ 0.02148778 -0.02148778]]\n"
          ]
        }
      ],
      "source": [
        "# Load debug data\n",
        "data = arff.loadarff('/content/linsep2nonorigin.arff')\n",
        "df = pd.DataFrame(data[0])\n",
        "debugDataNP = np.array(df)\n",
        "\n",
        "debugInputs = debugDataNP[:, :-1].astype(float) # X\n",
        "# Binary classification\n",
        "debugTargets = debugDataNP[:, -1:].astype(int) # y\n",
        "# print(debugTargets)\n",
        "\n",
        "# One Hot classification\n",
        "debugTargetsOneHot = []\n",
        "for i in range(len(debugTargets)):\n",
        "  if debugTargets[i] == 0 :\n",
        "    debugTargetsOneHot.append([1, 0])\n",
        "  else:\n",
        "    debugTargetsOneHot.append([0, 1])\n",
        "# print(debugTargetsOneHot)\n",
        "\n",
        "# Train on debug data\n",
        "model = MLP(momentum=.5, hidden_layer_widths=[4], deterministic=10)\n",
        "model.fit(debugInputs, debugTargetsOneHot)\n",
        "\n",
        "# Print weights\n",
        "model.get_weights()"
      ]
    },
    {
      "cell_type": "markdown",
      "metadata": {
        "id": "kY3VNB1ui03N"
      },
      "source": [
        "### 1.1.2 Evaluation\n",
        "\n",
        "Evaluate your model using the following parameters:\n",
        "\n",
        "Learning Rate = 0.1\\\n",
        "Momentum = 0.5\\\n",
        "Deterministic = 10 [This means run it 10 epochs and should be the same everytime you run it]\\\n",
        "Shuffle = False\\\n",
        "Validation size = 0\\\n",
        "Initial Weights = All zeros\\\n",
        "Hidden Layer Widths = [4]\n",
        "\n",
        "We will evaluate your model based on printed weights after training on the [Evaluation Dataset](https://byu.instructure.com/courses/14142/files?preview=4421294)"
      ]
    },
    {
      "cell_type": "code",
      "execution_count": null,
      "metadata": {
        "colab": {
          "base_uri": "https://localhost:8080/"
        },
        "id": "2yAxA78QjDh2",
        "outputId": "2e453a14-7ef1-42ff-c57c-aea2fea5581b"
      },
      "outputs": [
        {
          "output_type": "stream",
          "name": "stdout",
          "text": [
            "Layer 1:  [[ 1.30932366  1.30932366  1.30932366  1.30932366]\n",
            " [ 0.80601033  0.80601033  0.80601033  0.80601033]\n",
            " [ 0.92744187  0.92744187  0.92744187  0.92744187]\n",
            " [ 0.22165294  0.22165294  0.22165294  0.22165294]\n",
            " [-1.45313731 -1.45313731 -1.45313731 -1.45313731]]\n",
            "Layer 2:  [[-1.88512443]\n",
            " [-1.88512443]\n",
            " [-1.88512443]\n",
            " [-1.88512443]\n",
            " [ 4.57969955]]\n"
          ]
        }
      ],
      "source": [
        "# Load Eval data\n",
        "data = arff.loadarff('/content/data_banknote_authentication.arff')\n",
        "df = pd.DataFrame(data[0])\n",
        "evalDataNp = np.array(df)\n",
        "\n",
        "evalInputs = evalDataNp[:, :-1].astype(float) # X\n",
        "# Binary classification\n",
        "evalTargets = evalDataNp[:, -1:].astype(int) # y\n",
        "\n",
        "# One hot classification\n",
        "evalTargetsOneHot = []\n",
        "for i in range(len(evalTargets)):\n",
        "  if evalTargets[i] == 0 :\n",
        "    evalTargetsOneHot.append([1, 0])\n",
        "  else:\n",
        "    evalTargetsOneHot.append([0, 1])\n",
        "\n",
        "\n",
        "# Train on debug data\n",
        "model = MLP(momentum=.5, hidden_layer_widths=[4], deterministic=10)\n",
        "model.fit(evalInputs, evalTargets)\n",
        "\n",
        "# Print weights\n",
        "model.get_weights()"
      ]
    },
    {
      "cell_type": "markdown",
      "metadata": {
        "id": "9vWiTdlbR2Xh"
      },
      "source": [
        "## 2. (10%) Backpropagation on the Iris Classification problem.\n",
        "\n",
        "Load the Iris Dataset [Iris Dataset](https://byu.instructure.com/courses/14142/files?preview=4421369)\n",
        "\n",
        "Parameters:\n",
        "- One layer of hidden nodes with the number of hidden nodes being twice the number of inputs.\n",
        "- Use a 80/20 split of the data for the training/test set.\n",
        "- Use a learning rate of 0.1\n",
        "- Use a validation set (15% of the training set) taken from the training set for your stopping criteria\n",
        "- Create one graph with MSE (mean squared error) over epochs from the training set and validation set\n",
        "- Create one graph with classification accuracy (% classified correctly) over epochs from the training set and validation set\n",
        "- Print out your test set accuracy\n",
        "\n",
        "The results for the different measurables should be shown with a different color, line type, etc. Typical backpropagation accuracies for the Iris data set are 85-95%.\n",
        "\n",
        "---"
      ]
    },
    {
      "cell_type": "code",
      "execution_count": null,
      "metadata": {
        "colab": {
          "base_uri": "https://localhost:8080/",
          "height": 591
        },
        "id": "4SSoasDQSKXb",
        "outputId": "c959d64c-6a71-4bcc-dd50-e1b0663effdf"
      },
      "outputs": [
        {
          "output_type": "stream",
          "name": "stdout",
          "text": [
            "Test Accuracy:  0.9777777777777777\n"
          ]
        },
        {
          "output_type": "display_data",
          "data": {
            "image/png": "[encoded data removed]",
            "text/plain": [
              "<Figure size 432x288 with 1 Axes>"
            ]
          },
          "metadata": {
            "needs_background": "light"
          }
        },
        {
          "output_type": "display_data",
          "data": {
            "image/png": "[encoded data removed]",
            "text/plain": [
              "<Figure size 432x288 with 1 Axes>"
            ]
          },
          "metadata": {
            "needs_background": "light"
          }
        }
      ],
      "source": [
        "# Iris Classification\n",
        "# Load Iris data\n",
        "data = arff.loadarff('/content/iris.arff')\n",
        "df = pd.DataFrame(data[0])\n",
        "\n",
        "IrisDataNP = np.array(df)\n",
        "\n",
        "irisInputs = IrisDataNP[:, :4].astype(float) # X\n",
        "# Binary classification\n",
        "irisTargets = IrisDataNP[:, 4:] # y\n",
        "# print(irisTargets)\n",
        "\n",
        "# Encod the targets\n",
        "irisTargetEncoded = []\n",
        "for i in range(len(irisTargets)):\n",
        "  if irisTargets[i] == b'Iris-setosa' :\n",
        "    irisTargetEncoded.append([1, 0, 0])\n",
        "  elif irisTargets[i] == b'Iris-versicolor':\n",
        "    irisTargetEncoded.append([0, 1, 0])\n",
        "  else:\n",
        "    irisTargetEncoded.append([0, 0, 1])\n",
        "# print(irisTargetEncoded)\n",
        "\n",
        "# build model\n",
        "num_hidden_nodes = 2 * (len(irisInputs[0])) # twice the hidden nodes as inputs\n",
        "model = MLP(hidden_layer_widths=[num_hidden_nodes], momentum=.5)\n",
        "\n",
        "x_shuffled, y_shuffled = model._shuffle_data(irisInputs, irisTargetEncoded)\n",
        "x_test, x_train, y_test, y_train = model.split_data(x_shuffled, y_shuffled, .8)\n",
        "\n",
        "model.fit(x_train, y_train)\n",
        "\n",
        "print(\"Test Accuracy: \", model.score(x_test, y_test))\n",
        "\n",
        "# graph MSE (y) over epochs (x) training + validation\n",
        "y_training = model.train_mse\n",
        "y_valid = model.valid_mse\n",
        "\n",
        "plt.plot(y_training)\n",
        "plt.plot(y_valid)\n",
        "\n",
        "plt.title(\"MSE over Epoch\")\n",
        "plt.xlabel(\"Epoch\")\n",
        "plt.ylabel(\"MSE\")\n",
        "plt.legend([\"Training\", \"Validation\"], loc =\"lower right\")\n",
        "\n",
        "plt.show()\n",
        "\n",
        "# graph accuracy (y) over epochs (x) \n",
        "y_acc_train = model.train_accuracy\n",
        "y_acc_valid = model.valid_accuracy\n",
        "\n",
        "plt.title(\"Classification Accuracy over Epoch\")\n",
        "plt.plot(y_acc_train)\n",
        "plt.plot(y_acc_valid)\n",
        "\n",
        "plt.xlabel(\"Epoch\")\n",
        "plt.ylabel(\"Accuracy\")\n",
        "plt.legend([\"Training\", \"Validation\"], loc =\"lower right\")\n",
        "\n",
        "plt.show()"
      ]
    },
    {
      "cell_type": "markdown",
      "metadata": {
        "id": "SIRG42TgSR4x"
      },
      "source": [
        "## 3. (10%) Working with the Vowel Dataset - Learning Rate\n",
        "\n",
        "Load the Vowel Dataset [Vowel Dataset](https://byu.instructure.com/courses/14142/files?preview=4537354)\n",
        "\n",
        "- Use one layer of hidden nodes with the number of hidden nodes being twice the number of inputs.\n",
        "- Use random 80/20 splits of the data for the training/test set.\n",
        "- Use a validation set (15% of the training set) taken from the training set for your stopping criteria\n",
        "- Try some different learning rates (LR). Note that each LR will probably require a different number of epochs to learn. \n",
        "\n",
        "- For each LR you test, plot their validation's set MSE over Epochs on the same graph. Graph 4-5 different LRs and make them different enough to see a difference between them.\n",
        "\n",
        "In general, whenever you are testing a parameter such as LR, # of hidden nodes, etc., test values until no more improvement is found. For example, if 20 hidden nodes did better than 10, you would not stop at 20, but would try 40, etc., until you no longer get improvement.\n",
        "\n",
        "If you would like you may average the results of multiple initial conditions (e.g. 3) per LR, and that obviously would give more accurate results.\n",
        "\n",
        "<img src=https://raw.githubusercontent.com/cs472ta/CS472/master/images/backpropagation/backprop_val_set_MSE_vs_epochs.png width=500 height=500  align=\"left\">"
      ]
    },
    {
      "cell_type": "code",
      "execution_count": null,
      "metadata": {
        "colab": {
          "base_uri": "https://localhost:8080/",
          "height": 510
        },
        "id": "KBGUn43ASiXW",
        "outputId": "b558b4c8-b4f0-4427-a32a-9730ff1acc8c"
      },
      "outputs": [
        {
          "output_type": "stream",
          "name": "stdout",
          "text": [
            "0.01 lr\n",
            "Test Accuracy:  0.8255280073461891\n",
            "0.204 lr\n",
            "Test Accuracy:  0.8310376492194674\n",
            "0.168 lr\n",
            "Test Accuracy:  0.8319559228650137\n",
            "0.544 lr\n",
            "Test Accuracy:  0.8347107438016529\n",
            "0.852 lr\n",
            "Test Accuracy:  0.8356290174471993\n",
            "1.61 lr\n",
            "Test Accuracy:  0.8310376492194674\n"
          ]
        },
        {
          "output_type": "display_data",
          "data": {
            "image/png": "[encoded data removed]",
            "text/plain": [
              "<Figure size 432x288 with 1 Axes>"
            ]
          },
          "metadata": {
            "needs_background": "light"
          }
        }
      ],
      "source": [
        "# Vowel Classification\n",
        "# Load Iris data\n",
        "data = arff.loadarff('/content/vowel.arff')\n",
        "df = pd.DataFrame(data[0])\n",
        "\n",
        "vowelDataNP = np.array(df)\n",
        "\n",
        "# Binary classification\n",
        "vowelInputs = vowelDataNP[:, 2:-1] # X\n",
        "vowelTargets = vowelDataNP[:, -1:] # y\n",
        "# print(irisTargets)\n",
        "\n",
        "# Male -- 0\n",
        "# Female -- 1\n",
        "for i in range(len(vowelInputs)):\n",
        "  if vowelInputs[i][0] == b'Male':\n",
        "    vowelInputs[i] = 0\n",
        "  else:\n",
        "    vowelInputs[i] = 1\n",
        "\n",
        "# hid, hId, hEd, hAd, hYd, had, hOd, hod, hUd, hud, hed\n",
        "vowelTargetEncoded = []\n",
        "for i in range(len(vowelTargets)):\n",
        "  if vowelTargets[i] == b'hid' :\n",
        "    vowelTargetEncoded.append([1, 0, 0, 0, 0, 0, 0, 0, 0, 0, 0])\n",
        "  elif vowelTargets[i] == b'hId' :\n",
        "    vowelTargetEncoded.append([0, 1, 0, 0, 0, 0, 0, 0, 0, 0, 0])\n",
        "  elif vowelTargets[i] == b'hEd' :\n",
        "    vowelTargetEncoded.append([0, 0, 1, 0, 0, 0, 0, 0, 0, 0, 0])\n",
        "  elif vowelTargets[i] == b'hAd' :\n",
        "    vowelTargetEncoded.append([0, 0, 0, 1, 0, 0, 0, 0, 0, 0, 0])\n",
        "  elif vowelTargets[i] == b'hYd' :\n",
        "    vowelTargetEncoded.append([0, 0, 0, 0, 1, 0, 0, 0, 0, 0, 0])\n",
        "  elif vowelTargets[i] == b'had' :\n",
        "    vowelTargetEncoded.append([0, 0, 0, 0, 0, 1, 0, 0, 0, 0, 0])\n",
        "  elif vowelTargets[i] == b'hOd' :\n",
        "    vowelTargetEncoded.append([0, 0, 0, 0, 0, 0, 1, 0, 0, 0, 0])\n",
        "  elif vowelTargets[i] == b'hod' :\n",
        "    vowelTargetEncoded.append([0, 0, 0, 0, 0, 0, 0, 1, 0, 0, 0])\n",
        "  elif vowelTargets[i] == b'hUd' :\n",
        "    vowelTargetEncoded.append([0, 0, 0, 0, 0, 0, 0, 0, 1, 0, 0])\n",
        "  elif vowelTargets[i] == b'hud' :\n",
        "    vowelTargetEncoded.append([0, 0, 0, 0, 0, 0, 0, 0, 0, 1, 0])\n",
        "  else:\n",
        "    vowelTargetEncoded.append([0, 0, 0, 0, 0, 0, 0, 0, 0, 0, 1])\n",
        "# print(irisTargetEncoded)\n",
        "\n",
        "num_hidden_nodes = 2 * (len(vowelInputs[0])) # twice the hidden nodes as inputs\n",
        "\n",
        "# list of test learning rates \n",
        "test_lr = [0.01, 0.204, 0.168, 0.544, 0.852, 1.61]\n",
        "# test_lr = [0.01, 0.115]\n",
        "\n",
        "for lr in range(len(test_lr)):\n",
        "  print(test_lr[lr], \"lr\")\n",
        "  model = MLP(hidden_layer_widths=[num_hidden_nodes], lr=test_lr[lr], momentum=.5)\n",
        "\n",
        "  x_shuffled, y_shuffled = model._shuffle_data(vowelInputs, vowelTargetEncoded)\n",
        "  x_test, x_train, y_test, y_train = model.split_data(x_shuffled, y_shuffled, .8)\n",
        "  \n",
        "  model.fit(x_train, y_train)\n",
        "\n",
        "  y = model.valid_mse\n",
        "  plt.plot(y)\n",
        "  print(\"Test Accuracy: \", model.score(x_test, y_test))\n",
        "  \n",
        "  \n",
        "\n",
        "plt.title(\"Validation set MSE over Epoch\")\n",
        "plt.xlabel(\"Epoch\")\n",
        "plt.ylabel(\"Validation Set MSE\")\n",
        "plt.legend([\"lr=0.01\", \"lr=0.115\", \"lr=0.168\", \"lr=0.536\", \"lr=0.852\", \"lr=1.01\"], loc =\"upper right\")\n",
        "# plt.ylim([.14, .2])\n",
        "\n",
        "plt.show()"
      ]
    },
    {
      "cell_type": "markdown",
      "metadata": {
        "id": "mOteTlV6S0bq"
      },
      "source": [
        "## 3.1 (5%) Working with the Vowel Dataset - Intuition\n",
        "- Discuss the effect of varying learning rates. \n",
        "- Discuss why the vowel data set might be more difficult than Iris\n",
        "    - Report both datasets' baseline accuracies and best **test** set accuracies. \n",
        "- Consider which of the vowel dataset's given input features you should actually use (Train/test, speaker, gender, ect) and discuss why you chose the ones you did.\n",
        "\n",
        "Typical backpropagation accuracies for the Vowel data set are above 75%.\n",
        "\n"
      ]
    },
    {
      "cell_type": "markdown",
      "metadata": {
        "id": "qmq9GSbJS8k2"
      },
      "source": [
        "After trying out a couple different learning rates, it's hard to tell which had the biggest impact. One thing that is deifinitely clear is the amount of epochs it took for each model to run. Each learning rate returned pretty similar accuracies but some of them took a lot longer to do so. I think I will chose lr=0.852 for my next couple models as it finished with a pretty low MSE and didn't take very long to run. \n",
        "\n",
        "I think the vowel data set might be more difficult than Iris because there are quite a bit more output nodes. Iris only had 3 possible output nodes, whereas vowel has about 11. There is also more categorical data in the vowel set. I decided to ignore the train/test and speaker, and coded gender from 'male' and 'female' to a 0 or 1. I figured that train/test and speaker wouldn't have that big of an effect on the model overall, but because gender was easy transform into nominal data, it was easy to keep. \n",
        "\n"
      ]
    },
    {
      "cell_type": "markdown",
      "metadata": {
        "id": "FChKSwvZO4Ck"
      },
      "source": [
        "## 3.2 (10%) Working with the Vowel Dataset - Hidden Layer Nodes\n",
        "\n",
        "Using the best LR you discovered, experiment with different numbers of hidden nodes.\n",
        "\n",
        "- Start with 1 hidden node, then 2, and then double them for each test until you get no more improvement in accuracy. \n",
        "- For each number of hidden nodes find the best validation set solution (in terms of validation set MSE).  \n",
        "- Create one graph with MSE for the training set and validation set on the y-axis and # of hidden nodes on the x-axis.\n",
        "- Report the final test set accuracy for every # of hidden nodes you experimented on"
      ]
    },
    {
      "cell_type": "code",
      "execution_count": null,
      "metadata": {
        "colab": {
          "base_uri": "https://localhost:8080/",
          "height": 564
        },
        "id": "yNigf-SgO4Cl",
        "outputId": "0ce840e5-ed53-454a-c248-3e9b8b4dbc6d"
      },
      "outputs": [
        {
          "output_type": "stream",
          "name": "stdout",
          "text": [
            "Test Accuracy:  0.8347107438016529\n",
            "Num Hidden Nodes: 1\n",
            "Current Best Accuracy: 0\n",
            "Test Accuracy:  0.837465564738292\n",
            "Num Hidden Nodes: 2\n",
            "Current Best Accuracy: 0.8347107438016529\n",
            "Test Accuracy:  0.830119375573921\n",
            "Num Hidden Nodes: 4\n",
            "Current Best Accuracy: 0.837465564738292\n",
            "Test Accuracy:  0.8310376492194674\n",
            "Num Hidden Nodes: 8\n",
            "Current Best Accuracy: 0.837465564738292\n",
            "Test Accuracy:  0.8328741965105602\n",
            "Num Hidden Nodes: 16\n",
            "Current Best Accuracy: 0.837465564738292\n"
          ]
        },
        {
          "output_type": "display_data",
          "data": {
            "image/png": "[encoded data removed]",
            "text/plain": [
              "<Figure size 432x288 with 1 Axes>"
            ]
          },
          "metadata": {
            "needs_background": "light"
          }
        }
      ],
      "source": [
        "# while loop for each test\n",
        "bContinue = True\n",
        "num_hidden_nodes = 1\n",
        "best_accuracy = 0\n",
        "best_val_mse = []\n",
        "best_train_mse = []\n",
        "num_nodes = []\n",
        "accuracy_counter = 0\n",
        "\n",
        "while bContinue == True:\n",
        "  # shuffle and split data\n",
        "  model = MLP(hidden_layer_widths=[num_hidden_nodes], momentum=.5, lr=0.852) # add best lr from above\n",
        "\n",
        "  x_shuffled, y_shuffled = model._shuffle_data(vowelInputs, vowelTargetEncoded)\n",
        "  x_test, x_train, y_test, y_train = model.split_data(x_shuffled, y_shuffled, .8)\n",
        "\n",
        "  # run the model\n",
        "  model.fit(x_train, y_train)\n",
        "  curr_accuracy = model.score(x_test, y_test)\n",
        "  best_val_mse.append(max(model.valid_mse))\n",
        "  best_train_mse.append(max(model.train_mse))\n",
        "\n",
        "  print(\"Test Accuracy: \", model.score(x_test, y_test))\n",
        "  print(\"Num Hidden Nodes:\", num_hidden_nodes)\n",
        "  print(\"Current Best Accuracy:\", best_accuracy)\n",
        "\n",
        "  # check model test accuracy improvement\n",
        "  if best_accuracy < curr_accuracy:\n",
        "    best_accuracy = curr_accuracy\n",
        "    accuracy_counter = 0\n",
        "  else:\n",
        "    accuracy_counter += 1\n",
        "  \n",
        "  # track number of hidden nodes\n",
        "  num_nodes.append(num_hidden_nodes)\n",
        "\n",
        "  #if counter is high enough, break\n",
        "  if accuracy_counter == 3:\n",
        "    bContinue = False\n",
        "  if bContinue == True:\n",
        "    num_hidden_nodes = num_hidden_nodes * 2 # double amount of hidden nodes\n",
        "  \n",
        "  \n",
        "# graph MSE (y) over epochs (x) training + validation\n",
        "plt.plot(num_nodes, best_train_mse)\n",
        "plt.plot(num_nodes, best_val_mse)\n",
        "\n",
        "plt.title(\"Validation + Training MSE vs Number of Hidden Nodes\")\n",
        "plt.xlabel(\"Num Hidden Nodes\")\n",
        "plt.ylabel(\"MSE\")\n",
        "plt.legend([\"Training\", \"Validation\"], loc =\"upper right\")\n",
        "\n",
        "plt.show()"
      ]
    },
    {
      "cell_type": "markdown",
      "metadata": {
        "id": "n9n8cHi4O4Cl"
      },
      "source": [
        "Similar to the tests I ran on learning rate, I noticed that there wasn't a huge difference in accuracy when running the model with different numbers of hidden nodes. After having just 2 hidden nodes, I was able to get my best accuracy for the model and so will be using that for the next set of tests. The biggest difference I noticed was that having more hidden nodes meant the model took longer to run, which is what I expected going into this test. \n",
        "\n"
      ]
    },
    {
      "cell_type": "markdown",
      "metadata": {
        "id": "rD7Cpt_iO4Cl"
      },
      "source": [
        "## 3.3 (10%) Working with the Vowel Dataset - Momentum\n",
        "\n",
        "Try some different momentum terms using the best number of hidden nodes and LR from your earlier experiments.\n",
        "\n",
        "- Create a graph similar to step 3.2, but with momentum on the x-axis and number of epochs until validation set convergence on the y-axis.\n",
        "- For each momentum term, print the test set accuracy. \n",
        "- You are trying to see how much momentum speeds up learning and how it affects accuracy."
      ]
    },
    {
      "cell_type": "code",
      "execution_count": null,
      "metadata": {
        "id": "X-Q8T04XO4Cm",
        "colab": {
          "base_uri": "https://localhost:8080/",
          "height": 474
        },
        "outputId": "851100a6-5bd9-4ed1-d47c-682c0911ca60"
      },
      "outputs": [
        {
          "output_type": "stream",
          "name": "stdout",
          "text": [
            "Test Accuracy:  0.8292011019283747\n",
            "Momentum: 0.01\n",
            "Test Accuracy:  0.830119375573921\n",
            "Momentum: 0.08\n",
            "Test Accuracy:  0.8310376492194674\n",
            "Momentum: 0.25\n",
            "Test Accuracy:  0.8310376492194674\n",
            "Momentum: 0.5\n",
            "Test Accuracy:  0.8356290174471993\n",
            "Momentum: 0.96\n"
          ]
        },
        {
          "output_type": "display_data",
          "data": {
            "image/png": "[encoded data removed]",
            "text/plain": [
              "<Figure size 432x288 with 1 Axes>"
            ]
          },
          "metadata": {
            "needs_background": "light"
          }
        }
      ],
      "source": [
        "# while loop for each test\n",
        "bContinue = True\n",
        "num_hidden_nodes = 2\n",
        "test_momentum = [.01, .08, .25, .5, .96]\n",
        "epochs = []\n",
        "\n",
        "for m in range(len(test_momentum)):\n",
        "  # shuffle and split data\n",
        "  model = MLP(hidden_layer_widths=[num_hidden_nodes], momentum=test_momentum[m]) # add best lr from above\n",
        "\n",
        "  x_shuffled, y_shuffled = model._shuffle_data(vowelInputs, vowelTargetEncoded)\n",
        "  x_test, x_train, y_test, y_train = model.split_data(x_shuffled, y_shuffled, .8)\n",
        "\n",
        "  # run the model\n",
        "  model.fit(x_train, y_train)\n",
        "  curr_accuracy = model.score(x_test, y_test)\n",
        "  epochs.append(model.epoch)\n",
        "\n",
        "  print(\"Test Accuracy: \", model.score(x_test, y_test))\n",
        "  print(\"Momentum:\", test_momentum[m])\n",
        "\n",
        "plt.plot(test_momentum, epochs)\n",
        "\n",
        "plt.title(\"Epochs vs Momentum\")\n",
        "plt.xlabel(\"Momentum\")\n",
        "plt.ylabel(\"Epochs\")\n",
        "\n",
        "plt.show()"
      ]
    },
    {
      "cell_type": "markdown",
      "metadata": {
        "id": "FrPxoa6bO4Cm"
      },
      "source": [
        "While the accuracy didn't change that drastically for each momentum, I can see that the number of epochs that the model ran was at it's lowest around momentum of about .5. I think that if the momentum is either too high or too low, it's difficult for the algorithm to learn efficiently.\n",
        "\n"
      ]
    },
    {
      "cell_type": "markdown",
      "metadata": {
        "id": "oBBmeNQ7jvcQ"
      },
      "source": [
        "## 4.1 (10%) Use the scikit-learn (SK) version of the MLP classifier on the Iris and Vowel data sets.  \n",
        "\n",
        "You do not need to go through all the steps above, nor graph results. Compare results (accuracy and learning speed) between your version and theirs for some selection of hyper-parameters. Try different hyper-parameters and comment on their effect.\n",
        "\n",
        "At a minimum, try\n",
        "\n",
        "- number of hidden nodes and layers\n",
        "- different activation functions\n",
        "- learning rate\n",
        "- regularization and parameters\n",
        "- momentum (and try nesterov)\n",
        "- early stopping"
      ]
    },
    {
      "cell_type": "code",
      "execution_count": null,
      "metadata": {
        "id": "OFQv70W2VyqJ",
        "colab": {
          "base_uri": "https://localhost:8080/"
        },
        "outputId": "2cd6491d-731d-4c5f-bbea-913e6e9f25bd"
      },
      "outputs": [
        {
          "output_type": "stream",
          "name": "stdout",
          "text": [
            "Iris data set:  0.98\n",
            "Vowel data set:  0.03669724770642202\n"
          ]
        }
      ],
      "source": [
        "# Iris data set\n",
        "X_train, X_test, y_train, y_test = train_test_split(irisInputs, irisTargetEncoded, test_size=0.33, random_state=42)\n",
        "clf = MLPClassifier(random_state=1, max_iter=500, hidden_layer_sizes=(28), \n",
        "                    activation='relu', learning_rate='adaptive', learning_rate_init=.01, \n",
        "                    alpha=.0001, momentum=.5, nesterovs_momentum=True, early_stopping=False).fit(X_train, y_train)\n",
        "\n",
        "print(\"Iris data set: \", clf.score(X_test, y_test))\n",
        "\n",
        "# Vowel data set\n",
        "X_train, X_test, y_train, y_test = train_test_split(vowelInputs, vowelTargetEncoded, test_size=0.33, random_state=24)\n",
        "clf = MLPClassifier(random_state=1, max_iter=500, hidden_layer_sizes=(50), \n",
        "                    activation='tanh', learning_rate='constant', learning_rate_init=.01, \n",
        "                    alpha=.0001, momentum=.5, nesterovs_momentum=True, early_stopping=True).fit(X_train, y_train)\n",
        "\n",
        "print(\"Vowel data set: \", clf.score(X_test, y_test))\n"
      ]
    },
    {
      "cell_type": "markdown",
      "metadata": {
        "id": "BqSFAXwlk3Ms"
      },
      "source": [
        "Parameters that had a big impact: \n",
        "- activation\n",
        "- early_stopping\n",
        "- learning_rate_init\n",
        "\n",
        "Activation seems to have the biggest affect, at least among the hyper parameters I tried. For the iris set, changing the activation from 'identity' to 'relu' raised my accuracy about 40%. Unfortunately, I'm not able to get a very good score for the vowel data set, though I've tried changing the hyper parameters quite a bit, the score above was the best I could get. "
      ]
    },
    {
      "cell_type": "markdown",
      "metadata": {
        "id": "jFEY7iIWO4Cn"
      },
      "source": [
        "## 4.2 (5%) Using the Iris Dataset automatically adjust hyper-parameters using your choice of grid/random search\n",
        "- Use a grid or random search approach across a reasonable subset of hyper-parameters from the above \n",
        "- Report your best accuracy and hyper-parameters. "
      ]
    },
    {
      "cell_type": "code",
      "execution_count": null,
      "metadata": {
        "id": "FQGZNJnmO4Cn"
      },
      "outputs": [],
      "source": [
        "# Load sklearn perceptron\n",
        "\n",
        "# Train on voting dataset"
      ]
    },
    {
      "cell_type": "markdown",
      "metadata": {
        "id": "cTlK-kijk8Mg"
      },
      "source": [
        "## 5. (Optional 5% Extra credit) For the vowel data set, use the other hyper-parameter approach that you did not use in part 4.2 to find LR, # of hidden nodes, and momentum.  \n",
        "\n",
        "- Compare and discuss the values found with the ones you found in part 3.\n"
      ]
    },
    {
      "cell_type": "code",
      "execution_count": null,
      "metadata": {
        "id": "gjodRb1xO4Co"
      },
      "outputs": [],
      "source": [
        ""
      ]
    },
    {
      "cell_type": "markdown",
      "metadata": {
        "id": "Hm1CiWd3O4Co"
      },
      "source": [
        "*Discuss findings here*"
      ]
    }
  ],
  "metadata": {
    "colab": {
      "collapsed_sections": [],
      "name": "lab_2_backprop.ipynb",
      "provenance": [],
      "include_colab_link": true
    },
    "kernelspec": {
      "display_name": "Python 3",
      "language": "python",
      "name": "python3"
    },
    "language_info": {
      "codemirror_mode": {
        "name": "ipython",
        "version": 3
      },
      "file_extension": ".py",
      "mimetype": "text/x-python",
      "name": "python",
      "nbconvert_exporter": "python",
      "pygments_lexer": "ipython3",
      "version": "3.9.0"
    }
  },
  "nbformat": 4,
  "nbformat_minor": 0
}