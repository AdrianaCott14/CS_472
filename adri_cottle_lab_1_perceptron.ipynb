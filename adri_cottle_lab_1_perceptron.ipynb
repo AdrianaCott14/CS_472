{
  "cells": [
    {
      "cell_type": "markdown",
      "metadata": {
        "id": "view-in-github",
        "colab_type": "text"
      },
      "source": [
        "<a href=\"https://colab.research.google.com/github/AdrianaCott14/CS_472/blob/main/adri_cottle_lab_1_perceptron.ipynb\" target=\"_parent\"><img src=\"https://colab.research.google.com/assets/colab-badge.svg\" alt=\"Open In Colab\"/></a>"
      ]
    },
    {
      "cell_type": "markdown",
      "metadata": {
        "id": "DVL7_bgmIAPR"
      },
      "source": [
        "# Perceptron Lab\n",
        "\n",
        "\n",
        "\n"
      ]
    },
    {
      "cell_type": "code",
      "execution_count": null,
      "metadata": {
        "id": "6ZbYjZZZ_yLV"
      },
      "outputs": [],
      "source": [
        "from sklearn.base import BaseEstimator, ClassifierMixin\n",
        "from sklearn.linear_model import Perceptron\n",
        "import numpy as np\n",
        "import matplotlib.pyplot as plt\n",
        "from scipy.io import arff\n",
        "import pandas as pd\n",
        "import pdb\n"
      ]
    },
    {
      "cell_type": "markdown",
      "metadata": {
        "id": "sCcEPx5VIORj"
      },
      "source": [
        "## 1. (40%) Correctly implement and submit your own code for the perceptron learning algorithm. \n",
        "\n",
        "### Code requirements\n",
        "- Shuffle the data each epoch.\n",
        "- Use Stochastic/On-line training updates: Iterate and update weights after each training instance (i.e. do not attempt batch updates)\n",
        "- Implement a stopping criterion: when your model has trained for a number of epochs with no significant improvement in accuracy, stop training. Note that the weights/accuracy do not usually change monotonically.\n",
        "- Use your perceptron to solve the Debug data. We provide you with several parameters, and you should be able to replicate our results every time. When you are confident it is correct, run your perceptron on the Evaluation data with the same parameters, and print your final weights and accuracy."
      ]
    },
    {
      "cell_type": "code",
      "execution_count": null,
      "metadata": {
        "id": "_a2KSZ_7AN0G"
      },
      "outputs": [],
      "source": [
        "class PerceptronClassifier(BaseEstimator,ClassifierMixin):\n",
        "\n",
        "    def __init__(self, lr=.1, shuffle=True):\n",
        "        \"\"\" \n",
        "            Initialize class with chosen hyperparameters.\n",
        "        Args:\n",
        "            lr (float): A learning rate / step size.\n",
        "            shuffle: Whether to shuffle the training data each epoch. DO NOT \n",
        "            SHUFFLE for evaluation / debug datasets.\n",
        "        \"\"\"\n",
        "        self.lr = lr\n",
        "        self.shuffle = shuffle\n",
        "        self.misclassifications = []\n",
        "        self.epoch = 0\n",
        "\n",
        "    def fit(self, X, y, initial_weights=None, epochs=None):\n",
        "        \"\"\" \n",
        "            Fit the data; run the algorithm and adjust the weights to find a \n",
        "            good solution\n",
        "        Args:\n",
        "            X (array-like): A 2D numpy array with the training data, excluding\n",
        "            targets\n",
        "            y (array-like): A 2D numpy array with the training targets\n",
        "            initial_weights (array-like): allows the user to provide initial \n",
        "            weights\n",
        "        Returns:\n",
        "            self: this allows this to be chained, e.g. model.fit(X,y).predict(X_test)\n",
        "        \"\"\"\n",
        "        self.weights = self.initialize_weights(len(X[0])) if not initial_weights else initial_weights\n",
        "\n",
        "        # Shuffle\n",
        "        if self.shuffle == True:\n",
        "          shuffledData = self._shuffle_data(X, y)\n",
        "           # set new X and y \n",
        "          X = shuffledData[:, :-1] # X\n",
        "          y = shuffledData[:, -1:] # y\n",
        "\n",
        "        # add the bias at the end of each pattern\n",
        "        patterns = np.append(X, np.ones((X.shape[0], 1)), axis=1) \n",
        "\n",
        "        # go through each row in patterns calc net\n",
        "        if epochs != None:\n",
        "          for epoch in range(epochs):\n",
        "            for row in range(len(patterns)):\n",
        "              # calc net\n",
        "              net = 0\n",
        "              for i in range(len(patterns[row])):\n",
        "                net += patterns[row][i] * self.weights[i]  \n",
        "              z = 1 if net > 0 else 0\n",
        "              # run delta rule if output isn't 0\n",
        "              if z != y[row]:\n",
        "                for i in range(len(patterns[row])):\n",
        "                  self.weights[i] += self.lr * (y[row][0] - z) * patterns[row][i]\n",
        "        else:\n",
        "          bContinue = True\n",
        "          bestAccuracy = 0.0\n",
        "          counter = 0\n",
        "\n",
        "          while bContinue == True:\n",
        "            for row in range(len(patterns)):\n",
        "              # calc net\n",
        "              net = 0\n",
        "              for i in range(len(patterns[row])):\n",
        "                net += patterns[row][i] * self.weights[i]  \n",
        "              z = 1 if net > 0 else 0\n",
        "              # run delta rule if output isn't 0\n",
        "              if z != y[row]:\n",
        "                for i in range(len(patterns[row])):\n",
        "                  self.weights[i] += self.lr * (y[row][0] - z) * patterns[row][i]\n",
        "                # call score method\n",
        "            accuracy = self.score(X, y)  \n",
        "            misclassification = 1 - accuracy           \n",
        "                # compare to best accuracy, if it isn't better by .05 increase counter\n",
        "            if abs(accuracy - bestAccuracy) <= .05 :\n",
        "              counter += 1\n",
        "            else: \n",
        "              counter = 0\n",
        "            # set new best accuracy\n",
        "            if bestAccuracy < accuracy:\n",
        "              bestAccuracy = accuracy\n",
        "            #if counter is 4 break\n",
        "            if counter == 6:\n",
        "              bContinue = False\n",
        "            if bContinue == True:\n",
        "              self.epoch += 1\n",
        "            self.misclassifications.append(misclassification)                \n",
        "        \n",
        "        return self\n",
        "\n",
        "    def predict(self, X):\n",
        "        \"\"\" \n",
        "            Predict all classes for a dataset X\n",
        "        Args:\n",
        "            X (array-like): A 2D numpy array with the training data, excluding \n",
        "            targets\n",
        "        Returns:\n",
        "            array, shape (n_samples,)\n",
        "                Predicted target values per element in X.\n",
        "        \"\"\"\n",
        "        # calc the z value using the final weights from the trained model\n",
        "        patterns = np.append(X, np.ones((X.shape[0], 1)), axis=1)\n",
        "        predictions = np.empty((len(patterns), 1))\n",
        " \n",
        "        for row in range(len(patterns)):\n",
        "          net = 0\n",
        "          for i in range(len(patterns[row])):\n",
        "            # pdb.set_trace()\n",
        "            net += patterns[row][i] * self.weights[i]\n",
        "          z = 1 if net > 0 else 0\n",
        "          predictions[row] = z\n",
        "\n",
        "        shape = len(predictions)\n",
        "\n",
        "        return predictions\n",
        "\n",
        "    def initialize_weights(self, len):\n",
        "        \"\"\" Initialize weights for perceptron. Don't forget the bias!\n",
        "        Returns:\n",
        "        \"\"\" \n",
        "        return np.zeros((len + 1), dtype=float)\n",
        "\n",
        "    def score(self, X, y):\n",
        "        \"\"\" \n",
        "            Return accuracy of model on a given dataset. Must implement own \n",
        "            score function.\n",
        "        Args:\n",
        "            X (array-like): A 2D numpy array with data, excluding targets\n",
        "            y (array-like): A 2D numpy array with targets\n",
        "        Returns:\n",
        "            score : float\n",
        "                Mean accuracy of self.predict(X) wrt. y.\n",
        "        \"\"\"\n",
        "        predictions = self.predict(X)\n",
        "        score = 0.0\n",
        "        numCorrect = 0\n",
        "\n",
        "        for i in range(len(y)):\n",
        "          if predictions[i] == y[i]:\n",
        "            numCorrect += 1.0\n",
        "        \n",
        "        score = numCorrect/len(y)\n",
        "\n",
        "\n",
        "        return score\n",
        "\n",
        "    def _shuffle_data(self, X, y):\n",
        "        \"\"\" \n",
        "            Shuffle the data! This _ prefix suggests that this method should \n",
        "            only be called internally.\n",
        "            It might be easier to concatenate X & y and shuffle a single 2D \n",
        "            array, rather than shuffling X and y exactly the same way, \n",
        "            independently.\n",
        "        \"\"\"\n",
        "        shuffleNP = np.append(X, y, axis=1)\n",
        "        np.random.shuffle(shuffleNP)\n",
        "\n",
        "        return shuffleNP\n",
        "\n",
        "    ### Not required by sk-learn but required by us for grading. Returns the weights.\n",
        "    def get_weights(self):\n",
        "        # print the weights\n",
        "        return self.weights\n",
        "\n",
        "    def split_data(self, X, y):\n",
        "      # shuffle data \n",
        "      shuffledData = self._shuffle_data(X, y)\n",
        "      # set new X and y \n",
        "      X = shuffledData[:, :-1] # X\n",
        "      y = shuffledData[:, -1:] # y\n",
        "\n",
        "      # split X_train, X_test, y_train, y_train\n",
        "      splitPoint = round(0.7 * len(X))\n",
        "\n",
        "      X_train = X[:splitPoint]\n",
        "      X_test = X[-(len(X) - splitPoint):]\n",
        "      y_train = y[:splitPoint]\n",
        "      y_test = y[-(len(X) - splitPoint):]\n",
        " \n",
        "      return X_test, X_train, y_test, y_train\n",
        "\n",
        "    def get_epochs(self):\n",
        "      return self.epoch"
      ]
    },
    {
      "cell_type": "markdown",
      "metadata": {
        "id": "KibCIXIThpbE"
      },
      "source": [
        "## 1.1 Debug and Evaluation\n",
        "\n",
        "Debug and Evaluate your model using the parameters below\n",
        "\n",
        "Learning Rate = 0.1\\\n",
        "Deterministic = 10 [i.e., run it 10 epochs and should be the same everytime you run it]\\\n",
        "Shuffle = False\\\n",
        "Initial Weights = All zeros\n",
        "\n",
        "---\n",
        "\n",
        "### 1.1.1 Debug\n",
        "\n",
        "Debug your model by running it on the [debug dataset](https://byu.instructure.com/files/4421290/download?download_frd=1)\n",
        "\n",
        "Expected Results:\n",
        "\n",
        "Accuracy = [0.88]\\\n",
        "Final Weights = [-0.23  0.18 -0.1 ]"
      ]
    },
    {
      "cell_type": "code",
      "execution_count": null,
      "metadata": {
        "id": "KgAyy82gixIF",
        "colab": {
          "base_uri": "https://localhost:8080/"
        },
        "outputId": "ddd2a251-5564-4650-f531-6b7230eb4964"
      },
      "outputs": [
        {
          "output_type": "stream",
          "name": "stdout",
          "text": [
            "Accuracy:  0.875\n",
            "Weights:  [-0.23  0.18 -0.1 ]\n"
          ]
        }
      ],
      "source": [
        "# Load debug data\n",
        "data = arff.loadarff('/content/linsep2nonorigin.arff')\n",
        "df = pd.DataFrame(data[0])\n",
        "debugDataNP = np.array(df)\n",
        "debugInputs = debugDataNP[:, :-1].astype(float) # X\n",
        "debugTargets = debugDataNP[:, -1:].astype(int) # y\n",
        "# print(debugInputs, \"X\")\n",
        "# print(debugTargets, \"y\")\n",
        "\n",
        "# Train on debug data\n",
        "model = PerceptronClassifier(shuffle=False)\n",
        "model.fit(debugInputs, debugTargets, None, 10)\n",
        "\n",
        "# Print accuracy and weights\n",
        "print(\"Accuracy: \", model.score(debugInputs, debugTargets))\n",
        "print(\"Weights: \", model.get_weights())"
      ]
    },
    {
      "cell_type": "markdown",
      "metadata": {
        "id": "kY3VNB1ui03N"
      },
      "source": [
        "### 1.1.2 Evaluation\n",
        "\n",
        "We will evaluate your model based on it's performance on the [evaluation dataset](https://byu.instructure.com/files/4421294/download?download_frd=1)"
      ]
    },
    {
      "cell_type": "code",
      "execution_count": null,
      "metadata": {
        "id": "2yAxA78QjDh2",
        "colab": {
          "base_uri": "https://localhost:8080/"
        },
        "outputId": "6dc1af6c-71a9-4e2f-ecf5-c717ef4e86d7"
      },
      "outputs": [
        {
          "output_type": "stream",
          "name": "stdout",
          "text": [
            "Accuracy:  0.9876093294460642\n",
            "Weights:  [-3.80657242 -2.840821   -3.0719334  -1.4003906   4.9       ]\n"
          ]
        }
      ],
      "source": [
        "# Load evaluation data\n",
        "data = arff.loadarff('/content/data_banknote_authentication.arff')\n",
        "df = pd.DataFrame(data[0])\n",
        "evalDataNP = np.array(df)\n",
        "evalInputs = evalDataNP[:, :-1].astype(float) # X\n",
        "evalTargets = evalDataNP[:, -1:].astype(int) # y\n",
        "# print(evalInputs, \"X\")\n",
        "# print(evalTargets, \"y\")\n",
        "\n",
        "# Train on evaluation data\n",
        "model = PerceptronClassifier(shuffle=False)\n",
        "model.fit(evalInputs, evalTargets, None, 10)\n",
        "\n",
        "# Print accuracy and weights\n",
        "print(\"Accuracy: \", model.score(evalInputs, evalTargets))\n",
        "print(\"Weights: \", model.get_weights())"
      ]
    },
    {
      "cell_type": "markdown",
      "metadata": {
        "id": "9vWiTdlbR2Xh"
      },
      "source": [
        "## 2. (30%) Classifying on linearly separable and non-linearly separable data\n",
        "\n",
        "### 2.1 Create 2 datasets\n",
        "\n",
        "- Both with 8 instances using 2 real valued inputs (ranging between -1 and 1) with 4 instances from each class. \n",
        "- One data set should be linearly separable and the other not.\n",
        "\n"
      ]
    },
    {
      "cell_type": "code",
      "execution_count": null,
      "metadata": {
        "id": "4SSoasDQSKXb"
      },
      "outputs": [],
      "source": [
        "# Create 2 datasets\n",
        "dataset1 = np.array([[.1, -.7, 1], [.2, .5, 1], [.4, .1, 1], [-.3, .9, 1], [-.7, .4, 0], [-.4, .2, 0], [-.2, -.8, 0], [-.2, -.3, 0]]) # linearly separable\n",
        "dataset2 = np.array([[-.3, .9, 0], [.6, .4, 0], [.6, -.2, 0], [-.5, -.2, 0], [-.7, .4, 1], [-.7, -.5, 1], [.2, .5, 1], [.5, -.6, 1]]) # non-linearly separable\n"
      ]
    },
    {
      "cell_type": "markdown",
      "metadata": {
        "id": "SIRG42TgSR4x"
      },
      "source": [
        "### 2.2 Train on both sets with your perceptron code (with LR=.1)"
      ]
    },
    {
      "cell_type": "code",
      "execution_count": null,
      "metadata": {
        "id": "KBGUn43ASiXW",
        "colab": {
          "base_uri": "https://localhost:8080/"
        },
        "outputId": "bf04410b-4fa4-4367-eaca-a36939b17dbc"
      },
      "outputs": [
        {
          "output_type": "stream",
          "name": "stdout",
          "text": [
            "Dataset 1\n",
            "Accuracy:  1.0\n",
            "Weights:  [0.42 0.06 0.1 ]\n",
            "Dataset 2\n",
            "Accuracy:  0.5\n",
            "Weights:  [-0.12  0.06  0.1 ]\n"
          ]
        }
      ],
      "source": [
        "# Train on each dataset\n",
        "\n",
        "### Dataset 1 ###\n",
        "dataset1Inputs = dataset1[:, :-1].astype(float) # X\n",
        "dataset1Targets = dataset1[:, -1:].astype(int) # y\n",
        "# print(evalInputs, \"X\")\n",
        "# print(evalTargets, \"y\")\n",
        "\n",
        "# Train on evaluation data\n",
        "model1 = PerceptronClassifier(shuffle=False)\n",
        "model1.fit(dataset1Inputs, dataset1Targets)\n",
        "\n",
        "# Print accuracy and weights\n",
        "print(\"Dataset 1\")\n",
        "print(\"Accuracy: \", model1.score(dataset1Inputs, dataset1Targets))\n",
        "print(\"Weights: \", model1.get_weights())\n",
        "\n",
        "### Dataset 2 ###\n",
        "dataset2Inputs = dataset2[:, :-1].astype(float) # X\n",
        "dataset2Targets = dataset2[:, -1:].astype(int) # y\n",
        "# print(evalInputs, \"X\")\n",
        "# print(evalTargets, \"y\")\n",
        "\n",
        "# Train on evaluation data\n",
        "model2 = PerceptronClassifier(shuffle=False)\n",
        "model2.fit(dataset2Inputs, dataset2Targets)\n",
        "\n",
        "# Print accuracy and weights\n",
        "print(\"Dataset 2\")\n",
        "print(\"Accuracy: \", model2.score(dataset2Inputs, dataset2Targets))\n",
        "print(\"Weights: \", model2.get_weights())"
      ]
    },
    {
      "cell_type": "markdown",
      "metadata": {
        "id": "v19fpixqTe-7"
      },
      "source": [
        "### 2.3 Graph the datasets and their corresponding decision line\n",
        " \n",
        " - Graph each dataset\n",
        " - Use your trained perceptrons above to determine each dataset's decision line\n",
        " - For all graphs always label the axes!\n",
        " \n",
        "![Linearly Separable Data](https://raw.githubusercontent.com/rmorain/CS472-1/master/images/perceptron/linearly_separable.png)\n",
        "\n",
        "![Not Linearly Separable](https://raw.githubusercontent.com/rmorain/CS472-1/master/images/perceptron/not_linearly_separable.png)"
      ]
    },
    {
      "cell_type": "code",
      "execution_count": null,
      "metadata": {
        "id": "ZCPFUAGTS2sX",
        "colab": {
          "base_uri": "https://localhost:8080/",
          "height": 573
        },
        "outputId": "7ac9ac5d-a6a9-4791-f237-df3066977882"
      },
      "outputs": [
        {
          "output_type": "display_data",
          "data": {
            "image/png": "[encoded data removed]",
            "text/plain": [
              "<Figure size 432x288 with 1 Axes>"
            ]
          },
          "metadata": {
            "needs_background": "light"
          }
        },
        {
          "output_type": "display_data",
          "data": {
            "image/png": "[encoded data removed]",
            "text/plain": [
              "<Figure size 432x288 with 1 Axes>"
            ]
          },
          "metadata": {
            "needs_background": "light"
          }
        }
      ],
      "source": [
        "# Graph datasets and decision lines\n",
        "\n",
        "### Dataset 1 -- linearly seperable ###\n",
        "x = dataset1Inputs[:, :-1].astype(float) # X\n",
        "y = dataset1Inputs[:, 1:].astype(float) # y\n",
        "dataset1Class = dataset1[:, -1:].astype(int) # determine the color or the dot\n",
        "\n",
        "w1 = round(model1.get_weights()[0].astype(float), 2)\n",
        "w2 = round(model1.get_weights()[1].astype(float), 2)\n",
        "bias = round(model1.get_weights()[2].astype(float), 2)\n",
        "\n",
        "df = pd.DataFrame(dataset1, columns = ['X','y','Class'])\n",
        "groups = df.groupby('Class') # sort by class\n",
        "\n",
        "fig, ax = plt.subplots()\n",
        "ax.margins(0.05) # Optional, just adds 5% padding to the autoscaling\n",
        "for name, group in groups:\n",
        "    ax.plot(group.X, group.y, marker='o', linestyle='', ms=12, label=name)\n",
        "ax.legend()\n",
        "\n",
        "# line of best fit\n",
        "yline = - (bias/w2) - x * w1 / w2\n",
        "plt.plot(x, yline)\n",
        "\n",
        "plt.title('Linearly Seperable Data Example')\n",
        "plt.xlabel('X')\n",
        "plt.ylabel('y')\n",
        "\n",
        "plt.show()\n",
        "\n",
        "### Dataset 2 -- Non-linearly seperable ###\n",
        "x = dataset2Inputs[:, :-1].astype(float) # X\n",
        "y = dataset2Inputs[:, 1:].astype(float) # y\n",
        "dataset2Class = dataset2[:, -1:].astype(int) # determine the color or the dot\n",
        "\n",
        "df = pd.DataFrame(dataset2, columns = ['X','y','Class'])\n",
        "groups = df.groupby('Class') # sort by class\n",
        "\n",
        "fig, ax = plt.subplots()\n",
        "ax.margins(0.05) # Optional, just adds 5% padding to the autoscaling\n",
        "for name, group in groups:\n",
        "    ax.plot(group.X, group.y, marker='o', linestyle='', ms=12, label=name)\n",
        "ax.legend()\n",
        "\n",
        "w1 = round(model2.get_weights()[0].astype(float), 2)\n",
        "w2 = round(model2.get_weights()[1].astype(float), 2)\n",
        "bias = round(model2.get_weights()[2].astype(float), 2)\n",
        "\n",
        "# line of best fit\n",
        "yline = - (bias/w2) - x * w1 / w2\n",
        "plt.plot(x, yline)\n",
        "\n",
        "plt.title('Non-Linearly Seperable Data Example')\n",
        "plt.xlabel('X')\n",
        "plt.ylabel('y')\n",
        "\n",
        "plt.show()"
      ]
    },
    {
      "cell_type": "markdown",
      "metadata": {
        "id": "zQJXLs2yzuBu"
      },
      "source": [
        "### 2.4 Discuss why the perceptron won’t converge on non-linearly separable data."
      ]
    },
    {
      "cell_type": "markdown",
      "metadata": {
        "id": "lwVRTk-2zuBv"
      },
      "source": [
        "Perceptron is a linear classifier so if it gets fed data that isn't linearly separable, then it won't converge.\n"
      ]
    },
    {
      "cell_type": "markdown",
      "metadata": {
        "id": "0ySvhd1lUGSe"
      },
      "source": [
        "## 3. (20%) Use your perceptron code to learn this version of the [voting data set](https://byu.instructure.com/files/4421311/download?download_frd=1).\n",
        "\n",
        "This particular task is an edited version of the standard voting set, where we have replaced all the “don’t know” values with the most common value for the particular attribute.  \n",
        "\n",
        "### 3.1 Create a table that reports the final training and test set accuracy and the number of epochs for each trial.\n",
        "\n",
        "- Try it five times with different random 70/30 splits. \n",
        "- Use your own code to randomize and make splits. \n",
        "- Report the 5 trials and the average across the 5 trials in a table.  \n",
        "\n",
        "| Trial | Training Accuracy | Test accuracy | Number of epochs |\n",
        "| --- | --- | --- | --- |\n",
        "| 1 | .95 | .55 | 4 |\n",
        "| 2 | .85 | .45 | 6 |\n",
        "| Average | .9 | .5 | 5 | \n",
        "\n",
        "*- As a rough sanity check, typical Perceptron test accuracies for the voting data set are 90%-98%.*\n"
      ]
    },
    {
      "cell_type": "code",
      "execution_count": null,
      "metadata": {
        "id": "Romyl4G8Trki",
        "colab": {
          "base_uri": "https://localhost:8080/",
          "height": 237
        },
        "outputId": "e7112ddb-61c4-4146-8a8f-f4faa3ba5c98"
      },
      "outputs": [
        {
          "output_type": "execute_result",
          "data": {
            "text/html": [
              "\n",
              "  <div id=\"df-3147e7f7-a8b9-4e38-b885-e3022b7b40db\">\n",
              "    <div class=\"colab-df-container\">\n",
              "      <div>\n",
              "<style scoped>\n",
              "    .dataframe tbody tr th:only-of-type {\n",
              "        vertical-align: middle;\n",
              "    }\n",
              "\n",
              "    .dataframe tbody tr th {\n",
              "        vertical-align: top;\n",
              "    }\n",
              "\n",
              "    .dataframe thead th {\n",
              "        text-align: right;\n",
              "    }\n",
              "</style>\n",
              "<table border=\"1\" class=\"dataframe\">\n",
              "  <thead>\n",
              "    <tr style=\"text-align: right;\">\n",
              "      <th></th>\n",
              "      <th>Trial</th>\n",
              "      <th>Training Accuracy</th>\n",
              "      <th>Test Accuracy</th>\n",
              "      <th>Number of Epochs</th>\n",
              "    </tr>\n",
              "  </thead>\n",
              "  <tbody>\n",
              "    <tr>\n",
              "      <th>1</th>\n",
              "      <td>1</td>\n",
              "      <td>0.907121</td>\n",
              "      <td>0.949275</td>\n",
              "      <td>6.0</td>\n",
              "    </tr>\n",
              "    <tr>\n",
              "      <th>2</th>\n",
              "      <td>2</td>\n",
              "      <td>0.959752</td>\n",
              "      <td>0.942029</td>\n",
              "      <td>7.0</td>\n",
              "    </tr>\n",
              "    <tr>\n",
              "      <th>3</th>\n",
              "      <td>3</td>\n",
              "      <td>0.956656</td>\n",
              "      <td>0.927536</td>\n",
              "      <td>12.0</td>\n",
              "    </tr>\n",
              "    <tr>\n",
              "      <th>4</th>\n",
              "      <td>4</td>\n",
              "      <td>0.947368</td>\n",
              "      <td>0.956522</td>\n",
              "      <td>14.0</td>\n",
              "    </tr>\n",
              "    <tr>\n",
              "      <th>5</th>\n",
              "      <td>5</td>\n",
              "      <td>0.934985</td>\n",
              "      <td>0.927536</td>\n",
              "      <td>6.0</td>\n",
              "    </tr>\n",
              "    <tr>\n",
              "      <th>0</th>\n",
              "      <td>Average</td>\n",
              "      <td>0.941176</td>\n",
              "      <td>0.940580</td>\n",
              "      <td>9.0</td>\n",
              "    </tr>\n",
              "  </tbody>\n",
              "</table>\n",
              "</div>\n",
              "      <button class=\"colab-df-convert\" onclick=\"convertToInteractive('df-3147e7f7-a8b9-4e38-b885-e3022b7b40db')\"\n",
              "              title=\"Convert this dataframe to an interactive table.\"\n",
              "              style=\"display:none;\">\n",
              "        \n",
              "  <svg xmlns=\"http://www.w3.org/2000/svg\" height=\"24px\"viewBox=\"0 0 24 24\"\n",
              "       width=\"24px\">\n",
              "    <path d=\"M0 0h24v24H0V0z\" fill=\"none\"/>\n",
              "    <path d=\"M18.56 5.44l.94 2.06.94-2.06 2.06-.94-2.06-.94-.94-2.06-.94 2.06-2.06.94zm-11 1L8.5 8.5l.94-2.06 2.06-.94-2.06-.94L8.5 2.5l-.94 2.06-2.06.94zm10 10l.94 2.06.94-2.06 2.06-.94-2.06-.94-.94-2.06-.94 2.06-2.06.94z\"/><path d=\"M17.41 7.96l-1.37-1.37c-.4-.4-.92-.59-1.43-.59-.52 0-1.04.2-1.43.59L10.3 9.45l-7.72 7.72c-.78.78-.78 2.05 0 2.83L4 21.41c.39.39.9.59 1.41.59.51 0 1.02-.2 1.41-.59l7.78-7.78 2.81-2.81c.8-.78.8-2.07 0-2.86zM5.41 20L4 18.59l7.72-7.72 1.47 1.35L5.41 20z\"/>\n",
              "  </svg>\n",
              "      </button>\n",
              "      \n",
              "  <style>\n",
              "    .colab-df-container {\n",
              "      display:flex;\n",
              "      flex-wrap:wrap;\n",
              "      gap: 12px;\n",
              "    }\n",
              "\n",
              "    .colab-df-convert {\n",
              "      background-color: #E8F0FE;\n",
              "      border: none;\n",
              "      border-radius: 50%;\n",
              "      cursor: pointer;\n",
              "      display: none;\n",
              "      fill: #1967D2;\n",
              "      height: 32px;\n",
              "      padding: 0 0 0 0;\n",
              "      width: 32px;\n",
              "    }\n",
              "\n",
              "    .colab-df-convert:hover {\n",
              "      background-color: #E2EBFA;\n",
              "      box-shadow: 0px 1px 2px rgba(60, 64, 67, 0.3), 0px 1px 3px 1px rgba(60, 64, 67, 0.15);\n",
              "      fill: #174EA6;\n",
              "    }\n",
              "\n",
              "    [theme=dark] .colab-df-convert {\n",
              "      background-color: #3B4455;\n",
              "      fill: #D2E3FC;\n",
              "    }\n",
              "\n",
              "    [theme=dark] .colab-df-convert:hover {\n",
              "      background-color: #434B5C;\n",
              "      box-shadow: 0px 1px 3px 1px rgba(0, 0, 0, 0.15);\n",
              "      filter: drop-shadow(0px 1px 2px rgba(0, 0, 0, 0.3));\n",
              "      fill: #FFFFFF;\n",
              "    }\n",
              "  </style>\n",
              "\n",
              "      <script>\n",
              "        const buttonEl =\n",
              "          document.querySelector('#df-3147e7f7-a8b9-4e38-b885-e3022b7b40db button.colab-df-convert');\n",
              "        buttonEl.style.display =\n",
              "          google.colab.kernel.accessAllowed ? 'block' : 'none';\n",
              "\n",
              "        async function convertToInteractive(key) {\n",
              "          const element = document.querySelector('#df-3147e7f7-a8b9-4e38-b885-e3022b7b40db');\n",
              "          const dataTable =\n",
              "            await google.colab.kernel.invokeFunction('convertToInteractive',\n",
              "                                                     [key], {});\n",
              "          if (!dataTable) return;\n",
              "\n",
              "          const docLinkHtml = 'Like what you see? Visit the ' +\n",
              "            '<a target=\"_blank\" href=https://colab.research.google.com/notebooks/data_table.ipynb>data table notebook</a>'\n",
              "            + ' to learn more about interactive tables.';\n",
              "          element.innerHTML = '';\n",
              "          dataTable['output_type'] = 'display_data';\n",
              "          await google.colab.output.renderOutput(dataTable, element);\n",
              "          const docLink = document.createElement('div');\n",
              "          docLink.innerHTML = docLinkHtml;\n",
              "          element.appendChild(docLink);\n",
              "        }\n",
              "      </script>\n",
              "    </div>\n",
              "  </div>\n",
              "  "
            ],
            "text/plain": [
              "     Trial  Training Accuracy  Test Accuracy  Number of Epochs\n",
              "1        1           0.907121       0.949275               6.0\n",
              "2        2           0.959752       0.942029               7.0\n",
              "3        3           0.956656       0.927536              12.0\n",
              "4        4           0.947368       0.956522              14.0\n",
              "5        5           0.934985       0.927536               6.0\n",
              "0  Average           0.941176       0.940580               9.0"
            ]
          },
          "metadata": {},
          "execution_count": 11
        }
      ],
      "source": [
        "from numpy.lib.shape_base import column_stack\n",
        "# load data\n",
        "data = arff.loadarff('/content/voting-dataset.arff')\n",
        "df = pd.DataFrame(data[0])\n",
        "\n",
        "df[df == b'y'] = 1\n",
        "df[df == b'n'] = 0\n",
        "df[df == b'democrat'] = 1\n",
        "df[df == b'republican'] = 0\n",
        "votingDataNP = np.array(df)\n",
        "votingInputs = votingDataNP[:, :-1].astype(float) # X\n",
        "votingTargets = votingDataNP[:, -1:].astype(int) # y\n",
        "\n",
        "df_outputs = pd.DataFrame(columns=['Trial', 'Training Accuracy', 'Test Accuracy', 'Number of Epochs'])\n",
        "each_train_misclassifications = []\n",
        "\n",
        "# Train and test\n",
        "for trial in range(5):\n",
        "  model = PerceptronClassifier(shuffle=True)\n",
        "  # split data \n",
        "  x_test, x_train, y_test, y_train = model.split_data(votingInputs, votingTargets)\n",
        "\n",
        "  trainModel = model.fit(x_train, y_train, None, None)\n",
        "  trainScore = model.score(x_train, y_train)\n",
        "  epochs = model.get_epochs()\n",
        "  testScore = model.score(x_test, y_test)\n",
        "\n",
        "  df_outputs.loc[trial + 1] = [trial + 1, trainScore, testScore, epochs]\n",
        "\n",
        "  # get misclassification from each epoch and trial\n",
        "  each_train_misclassifications.append(model.misclassifications)\n",
        "\n",
        "# Calc Averages\n",
        "trainAvg = df_outputs['Training Accuracy'].mean()\n",
        "testAvg = df_outputs['Test Accuracy'].mean()\n",
        "epochAvg = df_outputs['Number of Epochs'].mean()\n",
        "data = {'Trial':['Average'], 'Training Accuracy':[trainAvg], 'Test Accuracy':[testAvg], 'Number of Epochs':[epochAvg]}\n",
        "df_avg = pd.DataFrame(data=data)\n",
        "\n",
        "# Create the table any way you like\n",
        "df_outputs = df_outputs.append(df_avg)\n",
        "df_outputs"
      ]
    },
    {
      "cell_type": "markdown",
      "metadata": {
        "id": "cm4rbWkzVeoR"
      },
      "source": [
        "### 3.2 By looking at the weights, explain what the model has learned and how the individual input features affect the result. Which specific features are most critical for the voting task, and which are least critical? \n"
      ]
    },
    {
      "cell_type": "markdown",
      "metadata": {
        "id": "g3F0Qp-BVi1R"
      },
      "source": [
        "It seems like the best number of epochs for the model is around 6 and 7, because I notice that when it ran for that amount of time the accuracy scores were the highest. "
      ]
    },
    {
      "cell_type": "markdown",
      "metadata": {
        "id": "NyUmJ4yWVsQ7"
      },
      "source": [
        "### 3.3 Make a graph of the average misclassification rate vs epochs (0th – final epoch).\n",
        "\n",
        "- Average the misclassification rate for the training set across your 5 trials (not across 5 epochs).\n",
        "\n",
        "\n",
        "![Average Misclassification Rate](https://raw.githubusercontent.com/rmorain/CS472-1/master/images/perceptron/avg_misclassification_rate_vs_epochs.png)"
      ]
    },
    {
      "cell_type": "code",
      "source": [
        "# find the average misclassification rate\n",
        "length = 0\n",
        "\n",
        "for i in range(5):\n",
        "  if len(each_train_misclassifications[i]) > length:\n",
        "    length = len(each_train_misclassifications[i])\n",
        "\n",
        "for i in range(5):\n",
        "  each_train_misclassifications[i] = np.pad(each_train_misclassifications[i], (0, (length - len(each_train_misclassifications[i]))))\n",
        "\n",
        "avg_misclassification = np.average(each_train_misclassifications, axis=0)\n",
        "each_train_misclassifications"
      ],
      "metadata": {
        "colab": {
          "base_uri": "https://localhost:8080/"
        },
        "id": "m0dURrJ_Ymju",
        "outputId": "01fecad7-e3f6-4725-d589-3c24c67b0142"
      },
      "execution_count": null,
      "outputs": [
        {
          "output_type": "execute_result",
          "data": {
            "text/plain": [
              "[array([0.09597523, 0.05572755, 0.06501548, 0.06811146, 0.04643963,\n",
              "        0.05572755, 0.09287926, 0.        , 0.        , 0.        ,\n",
              "        0.        , 0.        , 0.        , 0.        , 0.        ]),\n",
              " array([0.09907121, 0.04334365, 0.0495356 , 0.05882353, 0.0619195 ,\n",
              "        0.04334365, 0.07430341, 0.04024768, 0.        , 0.        ,\n",
              "        0.        , 0.        , 0.        , 0.        , 0.        ]),\n",
              " array([0.0371517 , 0.04024768, 0.06501548, 0.07120743, 0.02786378,\n",
              "        0.04024768, 0.08978328, 0.02786378, 0.0371517 , 0.02786378,\n",
              "        0.03095975, 0.02167183, 0.04334365, 0.        , 0.        ]),\n",
              " array([0.19504644, 0.05263158, 0.0371517 , 0.0371517 , 0.07120743,\n",
              "        0.06811146, 0.10835913, 0.10216718, 0.08978328, 0.0619195 ,\n",
              "        0.05882353, 0.04643963, 0.07739938, 0.08049536, 0.05263158]),\n",
              " array([0.10835913, 0.13312693, 0.08049536, 0.07739938, 0.07430341,\n",
              "        0.06501548, 0.06501548, 0.        , 0.        , 0.        ,\n",
              "        0.        , 0.        , 0.        , 0.        , 0.        ])]"
            ]
          },
          "metadata": {},
          "execution_count": 12
        }
      ]
    },
    {
      "cell_type": "code",
      "execution_count": null,
      "metadata": {
        "id": "2_ZRPWWVVeFM",
        "colab": {
          "base_uri": "https://localhost:8080/",
          "height": 295
        },
        "outputId": "14920839-86a7-4160-aa97-f4831dad2218"
      },
      "outputs": [
        {
          "output_type": "display_data",
          "data": {
            "image/png": "[encoded data removed]",
            "text/plain": [
              "<Figure size 432x288 with 1 Axes>"
            ]
          },
          "metadata": {
            "needs_background": "light"
          }
        }
      ],
      "source": [
        "# Graph here\n",
        "    \n",
        "def plot_misclassification(avg_misclassification_rate):\n",
        "    \"\"\"\n",
        "        Plots the average misclassification rate\n",
        "    Args:\n",
        "        avg_misclassification_rate (array-like): A 1D array or list\n",
        "    \"\"\"\n",
        "    plt.plot(np.arange(len(avg_misclassification_rate)), avg_misclassification_rate)\n",
        "    plt.title(\"Average Misclassification Rate vs. Epoch\")\n",
        "    plt.xlabel(\"Epoch\")\n",
        "    plt.ylabel(\"Misclassification Rate\")\n",
        "    plt.show()\n",
        "\n",
        "plot_misclassification(avg_misclassification)"
      ]
    },
    {
      "cell_type": "markdown",
      "metadata": {
        "id": "oBBmeNQ7jvcQ"
      },
      "source": [
        "## 4.1 (5%) Use the perceptron algorithm from the [scikit-learn toolkit](https://scikit-learn.org/stable/modules/generated/sklearn.linear_model.Perceptron.html) to learn the voting task above.\n",
        "- Report and compare your results with your own perceptron code."
      ]
    },
    {
      "cell_type": "code",
      "execution_count": null,
      "metadata": {
        "id": "OFQv70W2VyqJ",
        "colab": {
          "base_uri": "https://localhost:8080/"
        },
        "outputId": "ddef8f1f-efba-42cd-f32a-4f7a19c57164"
      },
      "outputs": [
        {
          "output_type": "stream",
          "name": "stdout",
          "text": [
            "Accuracy:  0.9609544468546638\n"
          ]
        },
        {
          "output_type": "stream",
          "name": "stderr",
          "text": [
            "/usr/local/lib/python3.7/dist-packages/ipykernel_launcher.py:18: DataConversionWarning: A column-vector y was passed when a 1d array was expected. Please change the shape of y to (n_samples, ), for example using ravel().\n"
          ]
        }
      ],
      "source": [
        "from sklearn.utils.validation import column_or_1d\n",
        "\n",
        "# Load sklearn perceptron\n",
        "from sklearn.datasets import load_digits\n",
        "from sklearn.linear_model import Perceptron\n",
        "\n",
        "# Load votinh data\n",
        "data = arff.loadarff('/content/voting-dataset.arff')\n",
        "df = pd.DataFrame(data[0])\n",
        "df[df == b'y'] = 1\n",
        "df[df == b'n'] = 0\n",
        "df[df == b'democrat'] = 1\n",
        "df[df == b'republican'] = 0\n",
        "\n",
        "votingDataNP = np.array(df)\n",
        "votingInputs = votingDataNP[:, :-1].astype(float) # X\n",
        "votingTargets = votingDataNP[:, -1:].astype(int) # y\n",
        "votingTargets = column_or_1d(votingTargets, warn=True)\n",
        "\n",
        "# Train on voting dataset\n",
        "clf = Perceptron(shuffle=True, eta0=0.1)\n",
        "clf.fit(votingInputs, votingTargets)\n",
        "print('Accuracy: ', clf.score(votingInputs, votingTargets))\n"
      ]
    },
    {
      "cell_type": "markdown",
      "metadata": {
        "id": "ZIfnW9jkzuBz"
      },
      "source": [
        "*Report your comparison*"
      ]
    },
    {
      "cell_type": "markdown",
      "metadata": {
        "id": "HkmJHZHPzuB0"
      },
      "source": [
        "## 4.2 (5%) Use the perceptron algorithm from the [scikit-learn toolkit](https://scikit-learn.org/stable/modules/generated/sklearn.linear_model.Perceptron.html) to learn one other data set of your choice.\n",
        "- Try out some of the hyper-parameters that scikit-learn makes available."
      ]
    },
    {
      "cell_type": "code",
      "execution_count": null,
      "metadata": {
        "id": "IGK6y1mZzuB0",
        "colab": {
          "base_uri": "https://localhost:8080/"
        },
        "outputId": "8e48bf24-c1b3-4ab6-9816-6c460a513d6d"
      },
      "outputs": [
        {
          "output_type": "stream",
          "name": "stdout",
          "text": [
            "Accuracy:  0.881\n"
          ]
        },
        {
          "output_type": "stream",
          "name": "stderr",
          "text": [
            "/usr/local/lib/python3.7/dist-packages/ipykernel_launcher.py:14: DataConversionWarning: A column-vector y was passed when a 1d array was expected. Please change the shape of y to (n_samples, ), for example using ravel().\n",
            "  \n"
          ]
        }
      ],
      "source": [
        "from sklearn.utils.validation import column_or_1d\n",
        "\n",
        "# Load sklearn perceptron\n",
        "from sklearn.datasets import load_digits\n",
        "from sklearn.linear_model import Perceptron\n",
        "\n",
        "# Load votinh data\n",
        "data = arff.loadarff('/content/hw_gmm_test.arff')\n",
        "df = pd.DataFrame(data[0])\n",
        "\n",
        "votingDataNP = np.array(df)\n",
        "votingInputs = votingDataNP[:, :-1].astype(float) # X\n",
        "votingTargets = votingDataNP[:, -1:].astype(int) # y\n",
        "votingTargets = column_or_1d(votingTargets, warn=True)\n",
        "\n",
        "# Train on voting dataset\n",
        "clf = Perceptron(shuffle=True, eta0=0.1)\n",
        "clf.fit(votingInputs, votingTargets)\n",
        "print('Accuracy: ', clf.score(votingInputs, votingTargets))\n"
      ]
    },
    {
      "cell_type": "markdown",
      "metadata": {
        "id": "BqSFAXwlk3Ms"
      },
      "source": [
        "*Report what hyperparameters you experimented with & what performed well*\n",
        "\n",
        "*   Random state\n",
        "*   Shuffle\n",
        "*   tol\n",
        "*   eta0 for the learning rate\n",
        "\n",
        "\n",
        "\n",
        "\n",
        "\n"
      ]
    },
    {
      "cell_type": "markdown",
      "metadata": {
        "id": "cTlK-kijk8Mg"
      },
      "source": [
        "## 5. (Optional 5% extra credit) Use the perceptron rule to learn the [iris task](https://byu.instructure.com/files/4421369/download?download_frd=1) or some other task with more than two possible output values. \n",
        "\n",
        "Note that the [iris data](https://byu.instructure.com/files/4421369/download?download_frd=1) set has 3 output classes, and a perceptron node only has two possible outputs.  You could implement either of the two most common ways to deal with this. For testing you just execute the novel instance on each model and combine the overall results to see which output class wins."
      ]
    }
  ],
  "metadata": {
    "colab": {
      "collapsed_sections": [],
      "name": "adri_cottle_lab_1_perceptron.ipynb",
      "provenance": [],
      "include_colab_link": true
    },
    "kernelspec": {
      "display_name": "Python 3",
      "language": "python",
      "name": "python3"
    },
    "language_info": {
      "codemirror_mode": {
        "name": "ipython",
        "version": 3
      },
      "file_extension": ".py",
      "mimetype": "text/x-python",
      "name": "python",
      "nbconvert_exporter": "python",
      "pygments_lexer": "ipython3",
      "version": "3.9.0"
    }
  },
  "nbformat": 4,
  "nbformat_minor": 0
}